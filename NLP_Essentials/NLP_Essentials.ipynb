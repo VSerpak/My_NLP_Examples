{
 "cells": [
  {
   "cell_type": "markdown",
   "metadata": {},
   "source": [
    "# Ultimate Guide to Understand & Implement Natural Language Processing "
   ]
  },
  {
   "cell_type": "markdown",
   "metadata": {},
   "source": [
    "According to industry estimates, only 21% of the available data is present in structured form. Data is being generated as we speak, as we tweet, as we send messages on Whatsapp and in various other activities. Majority of this data exists in the textual form, which is highly unstructured in nature.\n",
    "\n",
    "Few notorious examples include – tweets / posts on social media, user to user chat conversations, news, blogs and articles, product or services reviews and patient records in the healthcare sector. A few more recent ones includes chatbots and other voice driven bots.\n",
    "\n",
    "Despite having high dimension data, the information present in it is not directly accessible unless it is processed (read and understood) manually or analyzed by an automated system.\n",
    "\n",
    "In order to produce significant and actionable insights from text data, it is important to get acquainted with the techniques and principles of Natural Language Processing (NLP).\n",
    "\n",
    "So, if you plan to create chatbots this year, or you want to use the power of unstructured text, this guide is the right starting point. This guide unearths the concepts of natural language processing, its techniques and implementation. The aim of the article is to teach the concepts of natural language processing and apply it on real data set.\n",
    "\n",
    "## Table of Contents\n",
    "\n",
    "#### 1. Introduction to NLP\n",
    "\n",
    "#### 2. Text Preprocessing\n",
    "\n",
    "- [**Noise Removal**](#noise_removal): A general approach for noise removal is to prepare a dictionary of noisy entities to eliminate them from text\n",
    "- [**Lexicon Normalization**](#lexicon_normalization): Another type of textual noise is about the multiple representations exhibited by single word\n",
    "    - [Lemmatization](#lemmatization): Lemmatization is an organized & step by step procedure of obtaining the root form of the word\n",
    "    - [Stemming](#stemming): Stemming is a rudimentary rule-based process of stripping the suffixes (“ing”, “ly”, “es”, “s” etc) from a word\n",
    "- [**Object Standardization**](#object_standardization) : Replace social media slangs from a text\n",
    "   \n",
    "#### 3. Text to Features (Feature Engineering on text data)\n",
    "- [**Syntactical Parsing**](#Syntactical Parsing): This involves the analysis of words for grammar and their arrangement in a manner that shows the relationships among the words\n",
    "    - [Dependency Grammar](#Dependency Grammar): Dependency grammar is a class of syntactic text analysis that deals with (labeled) asymmetrical binary relations between two lexical items (words)\n",
    "    - [Part of Speech Tagging](#Part of Speech Tagging): Apart from the grammar relations, every word in a sentence is also associated with a part of speech (pos) tag\n",
    "- [**Entity Parsing**](#Entity Parsing): Entity Detection algorithms are generally ensemble models of rule based parsing, dictionary lookups, pos tagging and dependency parsing\n",
    "    - [Named Entity Recognition](#Named Entity Recognition): The process of detecting the named entities such as person names, location names, company names etc\n",
    "    - [Topic Modelling](#Topic Modelling): a process of automatically identifying the topics present in a text corpus\n",
    "    - [N-Grams](#N-Grams): A combination of N words together are called N-Grams. N grams (N > 1) are generally more informative as compared to words (Unigrams) as features.\n",
    "- [**Statistical features**](#Statistical features): \n",
    "    - [TF – IDF](#TF – IDF): TF-IDF is a weighted model. It aims to convert the text documents into vector models on the basis of occurrence of words in the documents without taking considering the exact ordering.\n",
    "    - [Frequency / Density Features](#Frequency / Density Features): Some of the features are: _Word Count, Sentence Count, Punctuation Counts and Industry specific word counts_.\n",
    "    - [Readability Features](#Readability Features): Other types of measures include __readability measures__ such as _syllable counts, smog index and flesch reading ease_\n",
    "- [**Word Embeddings**](#Word Embeddings): The aim of word embedding is to redefine the high dimensional word features into low dimensional feature vectors by preserving the contextual similarity in the corpus\n",
    "\n",
    "    \n",
    "#### 4. Important tasks of NLP\n",
    "- [**Text Classification**](#Text Classification): Email Spam Identification, topic classification of news, sentiment classification and organization of web pages by search engines\n",
    "- [**Text Matching**](#Text Matching / Similarity): One of the important areas of NLP is the matching of text objects to find similarities.\n",
    "    - [Levenshtein Distance](#Levenshtein Distance): the minimum number of edits needed to transform one string into the other\n",
    "    - [Phonetic Matching](#Phonetic Matching): takes a keyword as input (person’s name, location name etc) and produces a character string that identifies a set of words that are (roughly) phonetically similar\n",
    "    - [Flexible String Matching](#Flexible String Matching): A complete text matching system includes different algorithms pipelined together to compute variety of text variations\n",
    "    - [Cosine Similarity](#Cosine Similarity): When the text is represented as vector notation, a general cosine similarity can also be applied in order to measure vectorized similarity\n",
    "- [**Coreference Resolution**](#Coreference Resolution): a process of finding relational links among the words (or phrases) within the sentences\n",
    "- [**Other Problems**](#Other): \n",
    "    \n",
    "  \n",
    "#### 5. [**Important NLP libraries**](#Important Libraries):"
   ]
  },
  {
   "cell_type": "markdown",
   "metadata": {},
   "source": [
    "### 1. Introduction to Natural Language Processing\n",
    "\n",
    "NLP is a branch of data science that consists of systematic processes for analyzing, understanding, and deriving information from the text data in a smart and efficient manner. By utilizing NLP and its components, one can organize the massive chunks of text data, perform numerous automated tasks and solve a wide range of problems such as – automatic summarization, machine translation, named entity recognition, relationship extraction, sentiment analysis, speech recognition, and topic segmentation etc.\n",
    "\n",
    "Before moving further, I would like to explain some terms that are used in the article:\n",
    "\n",
    "   - Tokenization – process of converting a text into tokens\n",
    "   - Tokens – words or entities present in the text\n",
    "   - Text object – a sentence or a phrase or a word or an article\n",
    " \n",
    "\n",
    "Steps to install NLTK and its data:\n",
    "\n",
    "Install Pip: run in terminal:\n",
    "\n",
    "`sudo easy_install pip` # for Linux\n",
    "\n",
    "Install NLTK: run in terminal :\n",
    "\n",
    "`sudo pip install -U nltk` # for Linux\n",
    "\n",
    "Download NLTK data: run python shell (in terminal) and write the following code:"
   ]
  },
  {
   "cell_type": "code",
   "execution_count": 1,
   "metadata": {
    "collapsed": true
   },
   "outputs": [],
   "source": [
    "import nltk "
   ]
  },
  {
   "cell_type": "markdown",
   "metadata": {},
   "source": [
    "## 2. Text Preprocessing\n",
    "Since, text is the most unstructured form of all the available data, various types of noise are present in it and the data is not readily analyzable without any pre-processing. The entire process of cleaning and standardization of text, making it noise-free and ready for analysis is known as text preprocessing.\n",
    "\n",
    "It is predominantly comprised of three steps:\n",
    "\n",
    "   - Noise Removal\n",
    "   - Lexicon Normalization\n",
    "   - Object Standardization\n",
    "   \n",
    "The following image shows the architecture of text preprocessing pipeline.\n",
    "\n",
    "<img src='./Images/Image-1.png' width = 150%>"
   ]
  },
  {
   "cell_type": "markdown",
   "metadata": {},
   "source": [
    "<a id='noise_removal'></a>\n",
    "## 2.1 Noise Removal\n",
    "\n",
    "Any piece of text which is not relevant to the context of the data and the end-output can be specified as the noise.\n",
    "\n",
    "For example – language stopwords (commonly used words of a language – is, am, the, of, in etc), URLs or links, social media entities (mentions, hashtags), punctuations and industry specific words. This step deals with removal of all types of noisy entities present in the text.\n",
    "\n",
    "A general approach for noise removal is to prepare a dictionary of noisy entities, and iterate the text object by tokens (or by words), eliminating those tokens which are present in the noise dictionary.\n",
    "\n",
    "Following is the python code for the same purpose."
   ]
  },
  {
   "cell_type": "code",
   "execution_count": 2,
   "metadata": {
    "collapsed": false
   },
   "outputs": [
    {
     "data": {
      "text/plain": [
       "'sample text'"
      ]
     },
     "execution_count": 2,
     "metadata": {},
     "output_type": "execute_result"
    }
   ],
   "source": [
    "# Remove noisy words from a text\n",
    "noise_list = ['is','a','this','...']\n",
    "\n",
    "def _remove_noise(input_text):\n",
    "    words = input_text.split()\n",
    "    noise_free_words = [word for word in words if word not in noise_list]\n",
    "    noise_free_text = ' '.join(noise_free_words)\n",
    "    return noise_free_text\n",
    "\n",
    "_remove_noise(\"... this is a sample text ...\")"
   ]
  },
  {
   "cell_type": "markdown",
   "metadata": {},
   "source": [
    "Another approach is to use the regular expressions while dealing with special patterns of noise. We have explained regular expressions in detail in one of our previous [article](https://www.analyticsvidhya.com/blog/2015/06/regular-expression-python/). Following python code removes a regex pattern from the input text:"
   ]
  },
  {
   "cell_type": "code",
   "execution_count": 7,
   "metadata": {
    "collapsed": false
   },
   "outputs": [
    {
     "data": {
      "text/plain": [
       "'remove this  from analytics vidhya'"
      ]
     },
     "execution_count": 7,
     "metadata": {},
     "output_type": "execute_result"
    }
   ],
   "source": [
    "# Remove a regex pattern\n",
    "\n",
    "import re\n",
    "\n",
    "def _remove_regex(input_text, regex_pattern):\n",
    "    urls = re.finditer(regex_pattern, input_text)\n",
    "    \n",
    "    for i in urls:\n",
    "        input_text = re.sub(i.group().strip(),'',input_text)\n",
    "    return input_text\n",
    "\n",
    "regex_pattern = '#[\\w]*'\n",
    "\n",
    "_remove_regex('remove this #hashtag from analytics vidhya', regex_pattern)"
   ]
  },
  {
   "cell_type": "markdown",
   "metadata": {},
   "source": [
    "<a id='lexicon_normalization'></a>\n",
    "## 2.2 Lexicon Normalization\n",
    "\n",
    "Another type of textual noise is about the multiple representations exhibited by single word.\n",
    "\n",
    "For example – “play”, “player”, “played”, “plays” and “playing” are the different variations of the word – “play”, Though they mean different but contextually all are similar. The step converts all the disparities of a word into their normalized form (also known as lemma). Normalization is a pivotal step for feature engineering with text as it converts the high dimensional features (N different features) to the low dimensional space (1 feature), which is an ideal ask for any ML model.\n",
    "\n",
    "The most common lexicon normalization practices are :\n",
    "<a id='lemmatization'></a>\n",
    "\n",
    "   - __Lemmatization__: Lemmatization is an organized & step by step procedure of obtaining the root form of the word, it makes use of vocabulary (dictionary importance of words) and morphological analysis (word structure and grammar relations).\n",
    "<a id='stemming'></a>\n",
    "\n",
    "   - __Stemming__:  Stemming, on the other hand, is a rudimentary rule-based process of stripping the suffixes (“ing”, “ly”, “es”, “s” etc) from a word.\n",
    "   \n",
    "Below is the sample code that performs lemmatization and stemming using python’s popular library – NLTK."
   ]
  },
  {
   "cell_type": "code",
   "execution_count": 8,
   "metadata": {
    "collapsed": true
   },
   "outputs": [],
   "source": [
    "from nltk.stem.porter import PorterStemmer\n",
    "\n",
    "stem = PorterStemmer()\n",
    "\n",
    "from nltk.stem.wordnet import WordNetLemmatizer\n",
    "\n",
    "lem = WordNetLemmatizer()"
   ]
  },
  {
   "cell_type": "code",
   "execution_count": 9,
   "metadata": {
    "collapsed": false
   },
   "outputs": [
    {
     "data": {
      "text/plain": [
       "'multiply'"
      ]
     },
     "execution_count": 9,
     "metadata": {},
     "output_type": "execute_result"
    }
   ],
   "source": [
    "word = 'multiplying'\n",
    "lem.lemmatize(word,'v')"
   ]
  },
  {
   "cell_type": "code",
   "execution_count": 10,
   "metadata": {
    "collapsed": false
   },
   "outputs": [
    {
     "data": {
      "text/plain": [
       "'multipli'"
      ]
     },
     "execution_count": 10,
     "metadata": {},
     "output_type": "execute_result"
    }
   ],
   "source": [
    "stem.stem(word)"
   ]
  },
  {
   "cell_type": "markdown",
   "metadata": {},
   "source": [
    "<a id='object_standardization'></a>\n",
    "## 2.3 Object Standardization\n",
    "\n",
    "Text data often contains words or phrases which are not present in any standard lexical dictionaries. These pieces are not recognized by search engines and models.\n",
    "\n",
    "Some of the examples are – acronyms, hashtags with attached words, and colloquial slangs. With the help of regular expressions and manually prepared data dictionaries, this type of noise can be fixed, the code below uses a dictionary lookup method to replace social media slangs from a text."
   ]
  },
  {
   "cell_type": "code",
   "execution_count": 22,
   "metadata": {
    "collapsed": false
   },
   "outputs": [
    {
     "name": "stdout",
     "output_type": "stream",
     "text": [
      "['RT', 'this', 'is', 'a', 'retweeted', 'awsm', 'dm', 'by', 'Shivam', 'Bansal']\n"
     ]
    },
    {
     "data": {
      "text/plain": [
       "'Retweet this is a retweeted awesome direct message by Shivam Bansal'"
      ]
     },
     "execution_count": 22,
     "metadata": {},
     "output_type": "execute_result"
    }
   ],
   "source": [
    "lookup_dict = {'rt':'Retweet','dm':'direct message','awsm':'awesome','luv':'love'}\n",
    "\n",
    "def _lookup_words(input_text):\n",
    "    words = input_text.split()\n",
    "    print(words)\n",
    "    new_words = []\n",
    "    for word in words:\n",
    "        if word.lower() in lookup_dict:\n",
    "            word = lookup_dict[word.lower()]\n",
    "        new_words.append(word) \n",
    "        new_text = \" \".join(new_words)\n",
    "    return new_text\n",
    "    \n",
    "_lookup_words(\"RT this is a retweeted awsm dm by Shivam Bansal\")"
   ]
  },
  {
   "cell_type": "markdown",
   "metadata": {},
   "source": [
    "Apart from three steps discussed so far, other types of text preprocessing includes encoding-decoding noise, grammar checker, and spelling correction etc. The detailed article about preprocessing and its methods is given in one of my previous [article](https://www.analyticsvidhya.com/blog/2014/11/text-data-cleaning-steps-python/).\n",
    "\n",
    "\n",
    "\n",
    "## 3.Text to Features (Feature Engineering on text data)\n",
    "\n",
    "To analyse a preprocessed data, it needs to be converted into features. Depending upon the usage, text features can be constructed using assorted techniques – Syntactical Parsing, Entities / N-grams / word-based features, Statistical features, and word embeddings. Read on to understand these techniques in detail.\n",
    "<a id='Syntactical Parsing'></a>\n",
    "\n",
    "### 3.1 Syntactic Parsing\n",
    "\n",
    "Syntactical parsing involves the analysis of words in the sentence for grammar and their arrangement in a manner that shows the relationships among the words. Dependency Grammar and Part of Speech tags are the important attributes of text syntactics.\n",
    "\n",
    "<a id='Dependency Grammar'></a>\n",
    ">**Dependency Trees** – Sentences are composed of some words sewed together. The relationship among the words in a sentence is determined by the basic dependency grammar. Dependency grammar is a class of syntactic text analysis that deals with (labeled) asymmetrical binary relations between two lexical items (words). Every relation can be represented in the form of a triplet (relation, governor, dependent). For example: consider the sentence – “Bills on ports and immigration were submitted by Senator Brownback, Republican of Kansas.” The relationship among the words can be observed in the form of a tree representation as shown:\n",
    "\n",
    "<img src='./Images/image-2.png'>"
   ]
  },
  {
   "cell_type": "markdown",
   "metadata": {},
   "source": [
    "The tree shows that “submitted” is the root word of this sentence, and is linked by two sub-trees (subject and object subtrees). Each subtree is a itself a dependency tree with relations such as – (“Bills” <-> “ports” <by> “proposition” relation), (“ports” <-> “immigration” <by> “conjugation” relation).\n",
    "\n",
    "This type of tree, when parsed recursively in top-down manner gives grammar relation triplets as output which can be used as features for many nlp problems like entity wise sentiment analysis, actor & entity identification, and text classification. The python wrapper StanfordCoreNLP (by Stanford NLP Group, only commercial license) and NLTK dependency grammars can be used to generate dependency trees.\n",
    "\n",
    "<a id='Part of Speech Tagging'></a>\n",
    "__Part of speech tagging__ – Apart from the grammar relations, every word in a sentence is also associated with a part of speech (pos) tag (nouns, verbs, adjectives, adverbs etc). The pos tags defines the usage and function of a word in the sentence. H ere is a list of all possible pos-tags defined by Pennsylvania university. Following code using NLTK performs pos tagging annotation on input text. (it provides several implementations, the default one is perceptron tagger)"
   ]
  },
  {
   "cell_type": "code",
   "execution_count": 3,
   "metadata": {
    "collapsed": false
   },
   "outputs": [
    {
     "name": "stdout",
     "output_type": "stream",
     "text": [
      "[('I', 'PRP'), ('am', 'VBP'), ('learning', 'VBG'), ('Natural', 'NNP'), ('Language', 'NNP'), ('Processing', 'NNP'), ('on', 'IN'), ('Analytics', 'NNP'), ('Vidhya', 'NNP')]\n"
     ]
    }
   ],
   "source": [
    "from nltk import word_tokenize, pos_tag\n",
    "\n",
    "text = 'I am learning Natural Language Processing on Analytics Vidhya'\n",
    "tokens = word_tokenize(text)\n",
    "print(pos_tag(tokens))"
   ]
  },
  {
   "cell_type": "markdown",
   "metadata": {},
   "source": [
    "Part of Speech tagging is used for many important purposes in NLP:\n",
    "\n",
    "__A.Word sense disambiguation:__ Some language words have multiple meanings according to their usage. For example, in the two sentences below:\n",
    "\n",
    "_I. “Please book my flight for Delhi”_\n",
    "\n",
    "_II. “I am going to read this book in the flight”_\n",
    "\n",
    "“Book” is used with different context, however the part of speech tag for both of the cases are different. In sentence I, the word “book” is used as verb, while in II it is used as noun. ([Lesk Algorithm](https://en.wikipedia.org/wiki/Lesk_algorithm) is also us ed for similar purposes)\n",
    "\n",
    "__B.Improving word-based features:__ A learning model could learn different contexts of a word when used word as the features, however if the part of speech tag is linked with them, the context is preserved, thus making strong features. For example:\n",
    "\n",
    "_Sentence -“book my flight, I will read this book”_\n",
    "\n",
    "_Tokens – (“book”, 2), (“my”, 1), (“flight”, 1), (“I”, 1), (“will”, 1), (“read”, 1), (“this”, 1)_\n",
    "\n",
    "_Tokens with POS _– (“book_VB”, 1), (“my_PRP”, 1), (“flight_NN”, 1), (“I_PRP”, 1), (“will_MD”, 1), (“read_VB”, 1), (“this_DT”, 1), (“book_NN”, 1)\n",
    "\n",
    "__C. Normalization and Lemmatization:__ POS tags are the basis of lemmatization process for converting a word to its base form (lemma).\n",
    "\n",
    "__D.Efficient stopword removal__ : POS tags are also useful in efficient removal of stopwords.\n",
    "\n",
    "For example, there are some tags which always define the low frequency / less important words of a language. For example: (__IN__ – “within”, “upon”, “except”), (**CD** – “one”,”two”, “hundred”), (**MD** – “may”, “must”, etc)"
   ]
  },
  {
   "cell_type": "markdown",
   "metadata": {
    "collapsed": true
   },
   "source": [
    "<a id='Entity Parsing'></a>\n",
    "\n",
    "## 3.2 Entity Extraction (Entities as features)\n",
    "\n",
    "Entities are defined as the most important chunks of a sentence – noun phrases, verb phrases or both. Entity Detection algorithms are generally ensemble models of rule based parsing, dictionary lookups, pos tagging and dependency parsing. The applicability of entity detection can be seen in the automated chat bots, content analyzers and consumer insights.\n",
    "\n",
    "<img src='./Images/image-3.png'>\n",
    "\n",
    "<u>Topic Modelling</u> & <u>Named Entity Recognition</u> are the two key entity detection methods in NLP.\n",
    "\n",
    "<a id='Named Entity Recognition'></a>\n",
    "__A. Named Entity Recognition (NER)__\n",
    "The process of detecting the named entities such as person names, location names, company names etc from the text is called as __NER__. For example :\n",
    "\n",
    "_Sentence – Sergey Brin, the manager of Google Inc. is walking in the streets of New York._\n",
    "\n",
    "_Named Entities –  ( “person” : “Sergey Brin” ), (“org” : “Google Inc.”), (“location” : “New York”)_\n",
    "\n",
    "A typical NER model consists of <u>three</u> blocks:\n",
    "\n",
    "__Noun phrase identification:__ This step deals with extracting all the noun phrases from a text using dependency parsing and part of speech tagging.\n",
    "\n",
    "__Phrase classification:__ This is the classification step in which all the extracted noun phrases are classified into respective categories (locations, names etc). Google Maps API provides a good path to disambiguate locations, Then, the open databases from dbpedia, wikipedia can be used to identify person names or company names. Apart from this, one can curate the lookup tables and dictionaries by combining information from different sources.\n",
    "\n",
    "__Entity disambiguation__: Sometimes it is possible that entities are misclassified, hence creating a validation layer on top of the results is useful. Use of knowledge graphs can be exploited for this purposes. The popular knowledge graphs are – Google Knowledge Graph, IBM Watson and Wikipedia. \n",
    "\n",
    " \n",
    "<a id='Topic Modeling'></a>\n",
    "\n",
    "## B. Topic Modeling\n",
    "\n",
    "Topic modeling is a process of automatically identifying the topics present in a text corpus, it derives the hidden patterns among the words in the corpus in an unsupervised manner. Topics are defined as “a repeating pattern of co-occurring terms in a corpus”. A good topic model results in – “health”, “doctor”, “patient”, “hospital” for a topic – Healthcare, and “farm”, “crops”, “wheat” for a topic – “Farming”.\n",
    "\n",
    "__Latent Dirichlet Allocation (LDA)__ is the most popular topic modelling technique, Following is the code to implement topic modeling using LDA in python. For a detailed explanation about its working and implementation, check the complete article [here](https://www.analyticsvidhya.com/blog/2016/08/beginners-guide-to-topic-modeling-in-python/)."
   ]
  },
  {
   "cell_type": "code",
   "execution_count": 29,
   "metadata": {
    "collapsed": false
   },
   "outputs": [
    {
     "name": "stdout",
     "output_type": "stream",
     "text": [
      "['NullHandler', '__builtins__', '__cached__', '__doc__', '__file__', '__loader__', '__name__', '__package__', '__path__', '__spec__', '__version__', '_matutils', 'corpora', 'interfaces', 'logger', 'logging', 'matutils', 'models', 'parsing', 'scripts', 'similarities', 'summarization', 'topic_coherence', 'utils']\n",
      "Dictionary(34 unique tokens: ['My', 'Sugar', 'bad', 'but', 'consume.']...)\n",
      "father.\n",
      "0\n",
      "Number of words in dictionary: 34\n",
      "0 My\n",
      "1 Sugar\n",
      "2 bad\n",
      "3 but\n",
      "4 consume.\n",
      "5 father.\n",
      "6 have\n",
      "7 is\n",
      "8 likes\n",
      "9 my\n",
      "10 not\n",
      "11 sister\n",
      "12 sugar,\n",
      "13 to\n",
      "14 a\n",
      "15 around\n",
      "16 dance\n",
      "17 driving\n",
      "18 father\n",
      "19 lot\n",
      "20 of\n",
      "21 practice.\n",
      "22 spends\n",
      "23 time\n",
      "24 Doctors\n",
      "25 and\n",
      "26 blood\n",
      "27 cause\n",
      "28 increased\n",
      "29 may\n",
      "30 pressure.\n",
      "31 stress\n",
      "32 suggest\n",
      "33 that\n"
     ]
    }
   ],
   "source": [
    "doc1 = \"Sugar is bad to consume. My sister likes to have sugar, but not my father.\" \n",
    "doc2 = \"My father spends a lot of time driving my sister around to dance practice.\"\n",
    "doc3 = \"Doctors suggest that driving may cause increased stress and blood pressure.\"\n",
    "\n",
    "doc_complete = [doc1,doc2,doc3]\n",
    "doc_clean = [doc.split() for doc in doc_complete]\n",
    "import gensim \n",
    "print(dir(gensim))\n",
    "#from gensim.corpora import Dictionary\n",
    "from gensim import corpora\n",
    "# Creating the term dictionary of our corpus, where every unique term is assigned an index.  \n",
    "dictionary = gensim.corpora.Dictionary(doc_clean)\n",
    "\n",
    "print(dictionary)\n",
    "#dictionary = gensim.corpora.Dictionary(gen_docs)\n",
    "print(dictionary[5])\n",
    "print(dictionary.token2id['My'])\n",
    "print(\"Number of words in dictionary:\",len(dictionary))\n",
    "for i in range(len(dictionary)):\n",
    "    print(i, dictionary[i])"
   ]
  },
  {
   "cell_type": "markdown",
   "metadata": {},
   "source": [
    "Now we will create a __corpus__. A corpus is a list of __bags of words__. A _bag-of-words_ representation for a document just lists the number of times each word occurs in the document."
   ]
  },
  {
   "cell_type": "code",
   "execution_count": 30,
   "metadata": {
    "collapsed": false
   },
   "outputs": [
    {
     "name": "stdout",
     "output_type": "stream",
     "text": [
      "['Sugar', 'is', 'bad', 'to', 'consume.', 'My', 'sister', 'likes', 'to', 'have', 'sugar,', 'but', 'not', 'my', 'father.']\n",
      "[(0, 1), (1, 1), (2, 1), (3, 1), (4, 1), (5, 1), (6, 1), (7, 1), (8, 1), (9, 1), (10, 1), (11, 1), (12, 1), (13, 2)]\n"
     ]
    }
   ],
   "source": [
    "# Converting list of documents (corpus) into Document Term Matrix using dictionary prepared above.\n",
    "doc_term_matrix = [dictionary.doc2bow(doc) for doc in doc_clean]\n",
    "\n",
    "print(doc_clean[0])\n",
    "print(doc_term_matrix[0])"
   ]
  },
  {
   "cell_type": "code",
   "execution_count": 32,
   "metadata": {
    "collapsed": false
   },
   "outputs": [
    {
     "data": {
      "text/plain": [
       "gensim.models.ldamodel.LdaModel"
      ]
     },
     "execution_count": 32,
     "metadata": {},
     "output_type": "execute_result"
    }
   ],
   "source": [
    "# Creating the object for LDA model using gensim library\n",
    "Lda = gensim.models.ldamodel.LdaModel\n",
    "Lda"
   ]
  },
  {
   "cell_type": "code",
   "execution_count": 35,
   "metadata": {
    "collapsed": false
   },
   "outputs": [
    {
     "name": "stdout",
     "output_type": "stream",
     "text": [
      "[(0, '0.053*\"driving\" + 0.053*\"my\" + 0.053*\"sister\" + 0.053*\"My\" + 0.053*\"father\" + 0.053*\"around\" + 0.053*\"a\" + 0.053*\"time\" + 0.053*\"of\" + 0.053*\"practice.\"'), (1, '0.089*\"to\" + 0.051*\"My\" + 0.051*\"sister\" + 0.051*\"my\" + 0.051*\"Sugar\" + 0.051*\"bad\" + 0.051*\"but\" + 0.051*\"consume.\" + 0.051*\"sugar,\" + 0.051*\"father.\"'), (2, '0.060*\"driving\" + 0.060*\"increased\" + 0.060*\"and\" + 0.060*\"blood\" + 0.060*\"cause\" + 0.060*\"may\" + 0.060*\"suggest\" + 0.060*\"stress\" + 0.060*\"that\" + 0.060*\"pressure.\"')]\n"
     ]
    }
   ],
   "source": [
    "# Running and Training LDA model on the document term matrix\n",
    "lda_model = Lda(doc_term_matrix, num_topics=3, id2word = dictionary, passes=50)\n",
    "\n",
    "#Results\n",
    "print(lda_model.print_topics())"
   ]
  },
  {
   "cell_type": "markdown",
   "metadata": {},
   "source": [
    "<a id='N-Grams'></a>\n",
    "\n",
    "## C.  N-Grams as Features\n",
    "\n",
    "A combination of N words together are called N-Grams. N grams (N > 1) are generally more informative as compared to words (Unigrams) as features. Also, bigrams (N = 2) are considered as the most important features of all the others. The following code generates bigram of a text."
   ]
  },
  {
   "cell_type": "code",
   "execution_count": 36,
   "metadata": {
    "collapsed": true
   },
   "outputs": [],
   "source": [
    "def generate_ngrams(text,n):\n",
    "    words = text.split()\n",
    "    output = []\n",
    "    for i in range(len(words)-n+1):\n",
    "        output.append(words[i:i+n])\n",
    "    return output"
   ]
  },
  {
   "cell_type": "code",
   "execution_count": 37,
   "metadata": {
    "collapsed": false
   },
   "outputs": [
    {
     "data": {
      "text/plain": [
       "[['this', 'is'], ['is', 'a'], ['a', 'sample'], ['sample', 'text']]"
      ]
     },
     "execution_count": 37,
     "metadata": {},
     "output_type": "execute_result"
    }
   ],
   "source": [
    "generate_ngrams('this is a sample text', 2)"
   ]
  },
  {
   "cell_type": "code",
   "execution_count": 38,
   "metadata": {
    "collapsed": false
   },
   "outputs": [
    {
     "data": {
      "text/plain": [
       "[['this', 'is', 'a'], ['is', 'a', 'sample'], ['a', 'sample', 'text']]"
      ]
     },
     "execution_count": 38,
     "metadata": {},
     "output_type": "execute_result"
    }
   ],
   "source": [
    "generate_ngrams('this is a sample text', 3)"
   ]
  },
  {
   "cell_type": "markdown",
   "metadata": {},
   "source": [
    "<a id='Statistical Features'></a>\n",
    "## 3.3 Statistical Features\n",
    "\n",
    "Text data can also be quantified directly into numbers using several techniques described in this section:\n",
    "\n",
    "<a id='TF – IDF'></a>\n",
    "__A.  Term Frequency – Inverse Document Frequency (TF – IDF)__\n",
    "\n",
    "TF-IDF is a weighted model commonly used for information retrieval problems. It aims to convert the text documents into vector models on the basis of occurrence of words in the documents without taking considering the exact ordering. For Example – let say there is a dataset of N text documents, In any document “D”, TF and IDF will be defined as –\n",
    "\n",
    "Term Frequency (TF) – TF for a term “t” is defined as the count of a term “t” in a document “D”\n",
    "\n",
    "Inverse Document Frequency (IDF) – IDF for a term is defined as logarithm of ratio of total documents available in the corpus and number of documents containing the term T.\n",
    "\n",
    "TF . IDF – TF IDF formula gives the relative importance of a term in a corpus (list of documents), given by the following formula below. Following is the code using python’s scikit learn package to convert a text into tf idf vectors:\n",
    "\n",
    "<img src='./Images/image-4.png'>"
   ]
  },
  {
   "cell_type": "code",
   "execution_count": 42,
   "metadata": {
    "collapsed": false
   },
   "outputs": [
    {
     "name": "stdout",
     "output_type": "stream",
     "text": [
      "  (0, 7)\t0.58448290102\n",
      "  (0, 2)\t0.58448290102\n",
      "  (0, 4)\t0.444514311537\n",
      "  (0, 1)\t0.345205016865\n",
      "  (1, 1)\t0.385371627466\n",
      "  (1, 0)\t0.652490884513\n",
      "  (1, 3)\t0.652490884513\n",
      "  (2, 4)\t0.444514311537\n",
      "  (2, 1)\t0.345205016865\n",
      "  (2, 6)\t0.58448290102\n",
      "  (2, 5)\t0.58448290102\n"
     ]
    }
   ],
   "source": [
    "from sklearn.feature_extraction.text import TfidfVectorizer\n",
    "\n",
    "obj = TfidfVectorizer()\n",
    "\n",
    "corpus = ['This is sample document.', 'another random document.', 'third sample document text']\n",
    "\n",
    "X = obj.fit_transform(corpus)\n",
    "\n",
    "print(X)"
   ]
  },
  {
   "cell_type": "markdown",
   "metadata": {},
   "source": [
    "The model creates a vocabulary dictionary and assigns an index to each word. Each row in the output contains a tuple (i,j) and a tf-idf value of word at index j in document i.\n",
    "\n",
    " \n",
    "<a id='Frequency / Density Features'></a>\n",
    "__B. Count / Density / Readability Features__\n",
    "\n",
    "__Count__ or __Density__ based features can also be used in models and analysis. These features might seem trivial but shows a great impact in learning models. Some of the features are: _Word Count, Sentence Count, Punctuation Counts and Industry specific word counts_. \n",
    "\n",
    "<a id='Readability measures'></a>\n",
    "Other types of measures include __readability measures__ such as _syllable counts, smog index and flesch reading ease_. Refer to [Textstat](https://github.com/shivam5992/textstat) library to create such features.\n",
    "\n",
    " \n",
    "<a id='Word Embeddings'></a>\n",
    "\n",
    "## 3.4 Word Embedding (text vectors)\n",
    "\n",
    "Word embedding is the modern way of <u>representing words as vectors</u>. The aim of word embedding is to redefine the high dimensional word features into low dimensional feature vectors by preserving the contextual similarity in the corpus. They are widely used in deep learning models such as Convolutional Neural Networks and Recurrent Neural Networks.\n",
    "\n",
    "__Word2Vec__ and __GloVe__ are the two popular models to create word embedding of a text. These models takes a text corpus as input and produces the word vectors as output.\n",
    "\n",
    "__Word2Vec__ model is composed of _preprocessing module, a shallow neural network model called __Continuous Bag of Words__ and another shallow neural network model_ called __skip-gram__. These models are widely used for all other nlp problems. It first constructs a vocabulary from the training corpus and then learns word embedding representations. Following code using _gensim_ package prepares the word embedding as the vectors."
   ]
  },
  {
   "cell_type": "code",
   "execution_count": 54,
   "metadata": {
    "collapsed": true
   },
   "outputs": [],
   "source": [
    "import warnings\n",
    "warnings.filterwarnings(\"ignore\")"
   ]
  },
  {
   "cell_type": "code",
   "execution_count": 55,
   "metadata": {
    "collapsed": false
   },
   "outputs": [
    {
     "name": "stdout",
     "output_type": "stream",
     "text": [
      "-0.15140190733\n",
      "[  4.95778257e-03  -4.36157919e-03   3.00133135e-03  -4.11414169e-03\n",
      "  -3.75104311e-04  -4.10793116e-03  -4.14368371e-03  -9.13115218e-04\n",
      "   4.01544617e-03  -4.10950836e-03  -1.57741713e-03  -1.82221702e-03\n",
      "  -3.06260865e-03  -4.46991390e-03   6.25438464e-04  -8.41072120e-04\n",
      "   6.82064216e-04   6.97525451e-04   4.77551762e-03  -2.44429684e-03\n",
      "   3.05774645e-03  -7.59455666e-04  -3.58140795e-03   1.54365064e-03\n",
      "  -3.13564576e-03   4.48075356e-03   4.09086887e-03   3.07878270e-03\n",
      "  -3.92498868e-03  -7.40602729e-04   3.29059619e-03   2.46575102e-03\n",
      "  -3.89824389e-03   6.09400508e-04   4.74368269e-03  -1.58417481e-03\n",
      "  -4.51286370e-03  -2.91826017e-03   2.80717330e-04   3.69193405e-03\n",
      "  -8.22572678e-04  -4.20177123e-03  -3.75574548e-03  -4.94627748e-03\n",
      "   3.59821739e-03   1.65377813e-03  -3.81696317e-03  -2.78371247e-03\n",
      "  -3.55015602e-03   2.80604791e-03  -4.88965074e-03   3.27674532e-03\n",
      "   4.97721927e-03  -2.20353785e-03   1.87546120e-03  -2.12201034e-03\n",
      "   4.64084325e-03  -4.40896442e-03  -3.77712399e-03   5.55603357e-04\n",
      "  -4.35788045e-03  -3.96977877e-03   1.16743322e-03  -1.93390471e-03\n",
      "   4.24377061e-03  -4.58770059e-03   1.89483748e-03  -2.37145345e-03\n",
      "  -9.68100794e-04  -4.14007204e-03  -2.34397361e-03  -5.37713058e-04\n",
      "   3.98317818e-03   4.41835308e-03   3.46977310e-03   5.39015105e-04\n",
      "   8.02681257e-04   2.98178103e-03  -4.29373526e-04  -2.85794283e-03\n",
      "   4.85832337e-03  -3.55980662e-03  -1.69247237e-03   2.72650761e-03\n",
      "   4.85542841e-05   3.56330723e-03   2.15562433e-03  -2.99837766e-03\n",
      "   2.71056104e-03  -2.71917158e-03   2.08780286e-03  -3.84301087e-03\n",
      "  -4.76419181e-03  -1.48105912e-03   8.55454709e-04   4.41100588e-03\n",
      "  -4.20625461e-03   4.46322700e-03  -4.99161799e-03  -4.32743970e-03]\n"
     ]
    }
   ],
   "source": [
    "from gensim.models import Word2Vec\n",
    "\n",
    "sentences = [['data','science'],['vidhya','science','data','analytics'],\n",
    "            ['machine','learning'],['deep','learning']]\n",
    "\n",
    "# train the model on your corpus\n",
    "model = Word2Vec(sentences, min_count = 1)\n",
    "\n",
    "print(model.wv.similarity('data','science'))\n",
    "print(model['learning'])"
   ]
  },
  {
   "cell_type": "markdown",
   "metadata": {},
   "source": [
    "They can be used as feature vectors for ML model, used to measure text similarity using cosine similarity techniques, words clustering and text classification techniques.\n",
    "\n",
    " \n",
    "<a id='Important tasks of NLP'></a>\n",
    "## 4. Important tasks of NLP\n",
    "\n",
    "This section talks about different use cases and problems in the field of natural language processing.\n",
    "\n",
    "<a id='Text Classification'></a>\n",
    "__4.1 Text Classification__\n",
    "\n",
    "Text classification is one of the classical problem of NLP. Notorious examples include – _Email Spam Identification, topic classification of news, sentiment classification and organization of web pages by search engines_.\n",
    "\n",
    "Text classification, in common words is defined as a technique to systematically classify a text object (document or sentence) in one of the fixed category. It is really helpful when the amount of data is too large, especially for organizing, information filtering, and storage purposes.\n",
    "\n",
    "A typical natural language classifier consists of two parts: (a) Training (b) Prediction as shown in image below. Firstly the text input is processes and features are created. The machine learning models then learn these features and is used for predicting against the new text.\n",
    "\n",
    "<img src='./Images/image-5.png'>\n",
    "\n",
    "Here is a code that uses naive bayes classifier using text blob library (built on top of nltk)."
   ]
  },
  {
   "cell_type": "code",
   "execution_count": 49,
   "metadata": {
    "collapsed": false
   },
   "outputs": [
    {
     "name": "stdout",
     "output_type": "stream",
     "text": [
      "Class_A\n"
     ]
    }
   ],
   "source": [
    "from textblob.classifiers import NaiveBayesClassifier as NBC\n",
    "from textblob import TextBlob\n",
    "\n",
    "training_corpus = [\n",
    "                   ('I am exhausted of this work.', 'Class_B'),\n",
    "                   (\"I can't cooperate with this\", 'Class_B'),\n",
    "                   ('He is my badest enemy!', 'Class_B'),\n",
    "                   ('My management is poor.', 'Class_B'),\n",
    "                   ('I love this burger.', 'Class_A'),\n",
    "                   ('This is an brilliant place!', 'Class_A'),\n",
    "                   ('I feel very good about these dates.', 'Class_A'),\n",
    "                   ('This is my best work.', 'Class_A'),\n",
    "                   (\"What an awesome view\", 'Class_A'),\n",
    "                   ('I do not like this dish', 'Class_B')]\n",
    "test_corpus = [\n",
    "                (\"I am not feeling well today.\", 'Class_B'), \n",
    "                (\"I feel brilliant!\", 'Class_A'), \n",
    "                ('Gary is a friend of mine.', 'Class_A'), \n",
    "                (\"I can't believe I'm doing this.\", 'Class_B'), \n",
    "                ('The date was good.', 'Class_A'), \n",
    "    ('I do not enjoy my job', 'Class_B')]\n",
    "\n",
    "model = NBC(training_corpus) \n",
    "print(model.classify(\"Their codes are amazing.\"))"
   ]
  },
  {
   "cell_type": "code",
   "execution_count": 50,
   "metadata": {
    "collapsed": false
   },
   "outputs": [
    {
     "name": "stdout",
     "output_type": "stream",
     "text": [
      "Class_B\n"
     ]
    }
   ],
   "source": [
    "print(model.classify(\"I don't like their computer.\"))"
   ]
  },
  {
   "cell_type": "code",
   "execution_count": 51,
   "metadata": {
    "collapsed": false
   },
   "outputs": [
    {
     "name": "stdout",
     "output_type": "stream",
     "text": [
      "0.8333333333333334\n"
     ]
    }
   ],
   "source": [
    "print(model.accuracy(test_corpus))"
   ]
  },
  {
   "cell_type": "markdown",
   "metadata": {},
   "source": [
    "Scikit.Learn also provides a pipeline framework for text classification:"
   ]
  },
  {
   "cell_type": "code",
   "execution_count": 59,
   "metadata": {
    "collapsed": false
   },
   "outputs": [],
   "source": [
    "from sklearn.feature_extraction.text import TfidfVectorizer \n",
    "from sklearn.metrics import classification_report\n",
    "from sklearn import svm \n"
   ]
  },
  {
   "cell_type": "code",
   "execution_count": 61,
   "metadata": {
    "collapsed": false
   },
   "outputs": [
    {
     "name": "stdout",
     "output_type": "stream",
     "text": [
      "  (0, 1)\t1.0\n",
      "  (1, 1)\t1.0\n",
      "  (2, 0)\t1.0\n",
      "  (3, 0)\t1.0\n",
      "  (4, 1)\t1.0\n",
      "  (5, 1)\t0.630295415411\n",
      "  (5, 0)\t0.776355388538\n",
      "  (7, 1)\t0.630295415411\n",
      "  (7, 0)\t0.776355388538\n",
      "  (9, 1)\t1.0\n"
     ]
    }
   ],
   "source": [
    "# preparing data for SVM model (using the same training_corpus, test_corpus from naive bayes example)\n",
    "train_data = []\n",
    "train_labels = []\n",
    "\n",
    "for row in training_corpus:\n",
    "    train_data.append(row[0])\n",
    "    train_labels.append(row[1])\n",
    "    \n",
    "test_data = [] \n",
    "test_labels = [] \n",
    "for row in test_corpus:\n",
    "    test_data.append(row[0]) \n",
    "    test_labels.append(row[1])\n",
    "\n",
    "# Create feature vectors \n",
    "vectorizer = TfidfVectorizer(min_df=4,max_df=0.9)\n",
    "# Train feature vectors\n",
    "train_vectors =vectorizer.fit_transform(train_data)\n",
    "print(train_vectors)"
   ]
  },
  {
   "cell_type": "code",
   "execution_count": 62,
   "metadata": {
    "collapsed": false
   },
   "outputs": [
    {
     "name": "stdout",
     "output_type": "stream",
     "text": [
      "  (2, 0)\t1.0\n",
      "  (3, 1)\t1.0\n"
     ]
    }
   ],
   "source": [
    "# Apply model on test data\n",
    "test_vectors = vectorizer.transform(test_data)\n",
    "print(test_vectors)"
   ]
  },
  {
   "cell_type": "code",
   "execution_count": 65,
   "metadata": {
    "collapsed": false
   },
   "outputs": [
    {
     "name": "stdout",
     "output_type": "stream",
     "text": [
      "['Class_A' 'Class_A' 'Class_B' 'Class_B' 'Class_A' 'Class_A']\n"
     ]
    }
   ],
   "source": [
    "# Perform classification with SVM, kernel=linear\n",
    "model = svm.SVC(kernel='linear')\n",
    "\n",
    "model.fit(train_vectors, train_labels) \n",
    "prediction = model.predict(test_vectors)\n",
    "print(prediction)"
   ]
  },
  {
   "cell_type": "code",
   "execution_count": 66,
   "metadata": {
    "collapsed": false
   },
   "outputs": [
    {
     "name": "stdout",
     "output_type": "stream",
     "text": [
      "             precision    recall  f1-score   support\n",
      "\n",
      "    Class_A       0.50      0.67      0.57         3\n",
      "    Class_B       0.50      0.33      0.40         3\n",
      "\n",
      "avg / total       0.50      0.50      0.49         6\n",
      "\n"
     ]
    }
   ],
   "source": [
    "print (classification_report(test_labels, prediction))"
   ]
  },
  {
   "cell_type": "markdown",
   "metadata": {},
   "source": [
    "The text classification model are heavily dependent upon the quality and quantity of features, while applying any machine learning model it is always a good practice to include more and more training data. H ere are some tips that I wrote about improving the text classification accuracy in one of my previous article.\n",
    "\n",
    " \n",
    "<a id='Text Matching / Similarity'></a>\n",
    "## 4.2 Text Matching / Similarity\n",
    "\n",
    "One of the important areas of NLP is the matching of text objects to find similarities. Important applications of text matching includes automatic spelling correction, data de-duplication and genome analysis etc.\n",
    "\n",
    "A number of text matching techniques are available depending upon the requirement. This section describes the important techniques in detail.\n",
    "\n",
    "<a id='Levenshtein Distance'></a>\n",
    "__A. Levenshtein Distance__ – The Levenshtein distance between two strings is defined as the minimum number of edits needed to transform one string into the other, with the allowable edit operations being insertion, deletion, or substitution of a single character. Following is the implementation for efficient memory computations."
   ]
  },
  {
   "cell_type": "code",
   "execution_count": 71,
   "metadata": {
    "collapsed": false
   },
   "outputs": [
    {
     "name": "stdout",
     "output_type": "stream",
     "text": [
      "4\n"
     ]
    }
   ],
   "source": [
    "def levenshtein(s1,s2):\n",
    "    if len(s1) > len(s2):\n",
    "        s1,s2 =s2,s1\n",
    "    distances = range(len(s1) + 1)\n",
    "    for index2,char2 in enumerate(s2):\n",
    "        newDistances = [index2 + 1]\n",
    "        for index1,char1 in enumerate(s1):\n",
    "            if char1 == char2:\n",
    "                newDistances.append(distances[index1])\n",
    "            else:\n",
    "                newDistances.append(1 + min((distances[index1],\n",
    "                                             distances[index1+1],\n",
    "                                            newDistances[-1])))\n",
    "        distances = newDistances\n",
    "    return distances[-1]\n",
    "\n",
    "print(levenshtein(\"anal\",\"analyzes\"))"
   ]
  },
  {
   "cell_type": "markdown",
   "metadata": {},
   "source": [
    "<a id='Phonetic Matching'></a>\n",
    "__B. Phonetic Matching__ – A Phonetic matching algorithm takes a keyword as input (person’s name, location name etc) and produces a character string that identifies a set of words that are (roughly) phonetically similar. It is very useful for searching large text corpuses, correcting spelling errors and matching relevant names. Soundex and Metaphone are two main phonetic algorithms used for this purpose. Python’s module Fuzzy is used to compute soundex strings for different words, for example –"
   ]
  },
  {
   "cell_type": "code",
   "execution_count": 75,
   "metadata": {
    "collapsed": false
   },
   "outputs": [
    {
     "name": "stdout",
     "output_type": "stream",
     "text": [
      "B651\n"
     ]
    }
   ],
   "source": [
    "import fuzzy\n",
    "\n",
    "soundex = fuzzy.Soundex(4)\n",
    "print(soundex('brarmavir'))"
   ]
  },
  {
   "cell_type": "markdown",
   "metadata": {},
   "source": [
    "<a id='Flexible String Matching'></a>\n",
    "__C. Flexible String Matching__ – A complete text matching system includes different algorithms pipelined together to compute variety of text variations. Regular expressions are really helpful for this purposes as well. Another common techniques include – exact string matching, lemmatized matching, and compact matching (takes care of spaces, punctuation’s, slangs etc).\n",
    "\n",
    "<a id='Cosine Similarity'></a>\n",
    "__D. Cosine Similarity__ – When the text is represented as vector notation, a general cosine similarity can also be applied in order to measure vectorized similarity. Following code converts a text to vectors (using term frequency) and applies cosine similarity to provide closeness among two text."
   ]
  },
  {
   "cell_type": "code",
   "execution_count": 92,
   "metadata": {
    "collapsed": false
   },
   "outputs": [
    {
     "name": "stdout",
     "output_type": "stream",
     "text": [
      "0.629940788348712\n"
     ]
    }
   ],
   "source": [
    "import math\n",
    "from collections import Counter\n",
    "def get_cosine(vec1, vec2):\n",
    "    common = set(vec1.keys()) & set(vec2.keys())\n",
    "    numerator = sum([vec1[x] * vec2[x] for x in common])\n",
    "\n",
    "    sum1 = sum([vec1[x]**2 for x in vec1.keys()]) \n",
    "    sum2 = sum([vec2[x]**2 for x in vec2.keys()]) \n",
    "    denominator = math.sqrt(sum1) * math.sqrt(sum2)\n",
    "   \n",
    "    if not denominator:\n",
    "        return 0.0 \n",
    "    else:\n",
    "        return float(numerator) / denominator\n",
    "\n",
    "def text_to_vector(text): \n",
    "    words = text.split() \n",
    "    return Counter(words)\n",
    "\n",
    "text1 = 'This is an article on analytics vidhya' \n",
    "text2 = 'article on analytics vidhya is about natural language processing'\n",
    "\n",
    "vector1 = text_to_vector(text1) \n",
    "vector2 = text_to_vector(text2) \n",
    "cosine = get_cosine(vector1, vector2)\n",
    "print(cosine)"
   ]
  },
  {
   "cell_type": "markdown",
   "metadata": {},
   "source": [
    "<a id='Coreference Resolution'></a>\n",
    "## 4.3 Coreference Resolution\n",
    "\n",
    "Coreference Resolution is a process of finding relational links among the words (or phrases) within the sentences. Consider an example sentence: ” Donald went to John’s office to see the new table. He looked at it for an hour.“\n",
    "\n",
    "Humans can quickly figure out that “he” denotes Donald (and not John), and that “it” denotes the table (and not John’s office). Coreference Resolution is the component of NLP that does this job automatically. It is used in document summarization, question answering, and information extraction. Stanford CoreNLP provides a python wrapper for commercial purposes.\n",
    "\n",
    " \n",
    "<a id='Other'></a>\n",
    "## 4.4 Other NLP problems / tasks\n",
    "\n",
    "- Text Summarization – Given a text article or paragraph, summarize it automatically to produce most important and relevant sentences in order.\n",
    "\n",
    "- Machine Translation – Automatically translate text from one human language to another by taking care of grammar, semantics and information about the real world, etc.\n",
    "\n",
    "- Natural Language Generation and Understanding – Convert information from computer databases or semantic intents into readable human language is called language generation. Converting chunks of text into more logical structures that are easier for computer programs to manipulate is called language understanding.\n",
    "\n",
    "- Optical Character Recognition – Given an image representing printed text, determine the corresponding text.\n",
    "\n",
    "- Document to Information – This involves parsing of textual data present in documents (websites, files, pdfs and images) to analyzable and clean format.\n",
    " \n",
    "<a id='Important Libraries'></a>\n",
    "## 5. Important Libraries for NLP (python)\n",
    "\n",
    "- Scikit-learn: Machine learning in Python\n",
    "- Natural Language Toolkit (NLTK): The complete toolkit for all NLP techniques.\n",
    "- Pattern – A web mining module for the with tools for NLP and machine learning.\n",
    "- TextBlob – Easy to use nl p tools API, built on top of NLTK and Pattern.\n",
    "- spaCy – Industrial strength N LP with Python and Cython.\n",
    "- Gensim – Topic Modelling for Humans\n",
    "- Stanford Core NLP – NLP services and packages by Stanford NLP Group."
   ]
  },
  {
   "cell_type": "code",
   "execution_count": null,
   "metadata": {
    "collapsed": true
   },
   "outputs": [],
   "source": []
  },
  {
   "cell_type": "code",
   "execution_count": null,
   "metadata": {
    "collapsed": true
   },
   "outputs": [],
   "source": []
  }
 ],
 "metadata": {
  "kernelspec": {
   "display_name": "Python 3",
   "language": "python",
   "name": "python3"
  },
  "language_info": {
   "codemirror_mode": {
    "name": "ipython",
    "version": 3
   },
   "file_extension": ".py",
   "mimetype": "text/x-python",
   "name": "python",
   "nbconvert_exporter": "python",
   "pygments_lexer": "ipython3",
   "version": "3.6.0"
  }
 },
 "nbformat": 4,
 "nbformat_minor": 2
}
